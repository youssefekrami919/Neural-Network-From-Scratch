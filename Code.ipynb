{
 "cells": [
  {
   "cell_type": "code",
   "execution_count": 35,
   "id": "1bbf2445",
   "metadata": {},
   "outputs": [],
   "source": [
    "import numpy as np \n",
    "true_values_test = [5. , 10. , 15. , 5. , 15.]\n",
    "predectid_values_test = [5., 9.,16.,2.,15. ]"
   ]
  },
  {
   "cell_type": "markdown",
   "id": "3594b7a4",
   "metadata": {},
   "source": [
    "Implementing Mean Squre Error (MSE)"
   ]
  },
  {
   "cell_type": "code",
   "execution_count": 36,
   "id": "9e14ed5c",
   "metadata": {},
   "outputs": [],
   "source": [
    "def mse (true_values , predectid_values):\n",
    "  total_error = 0\n",
    "  for yt , yp in zip(true_values, predectid_values):\n",
    "    total_error += pow(yt-yp,2)\n",
    "    \n",
    "  mse =   total_error/len(true_values)\n",
    "  print(\"MSE:\" , mse)\n",
    "  return mse"
   ]
  },
  {
   "cell_type": "code",
   "execution_count": 37,
   "id": "521b8303",
   "metadata": {},
   "outputs": [
    {
     "name": "stdout",
     "output_type": "stream",
     "text": [
      "MSE: 2.2\n"
     ]
    },
    {
     "data": {
      "text/plain": [
       "2.2"
      ]
     },
     "execution_count": 37,
     "metadata": {},
     "output_type": "execute_result"
    }
   ],
   "source": [
    "mse(true_values_test,predectid_values_test)"
   ]
  },
  {
   "cell_type": "code",
   "execution_count": 38,
   "id": "1781c6f5",
   "metadata": {},
   "outputs": [
    {
     "name": "stdout",
     "output_type": "stream",
     "text": [
      "2.2\n"
     ]
    }
   ],
   "source": [
    "mse = np.mean(pow(np.array(true_values_test)-np.array(predectid_values_test),2))\n",
    "print(mse)"
   ]
  },
  {
   "cell_type": "markdown",
   "id": "6f15bf86",
   "metadata": {},
   "source": [
    "Implementing Mean Absolute Error (MSE)"
   ]
  },
  {
   "cell_type": "code",
   "execution_count": 39,
   "id": "f03fc2e3",
   "metadata": {},
   "outputs": [],
   "source": [
    "\n",
    "def mae (true_values , predectid_values):\n",
    "  total_error = 0\n",
    "  for yt , yp in zip(true_values, predectid_values):\n",
    "    total_error += abs(yt-yp)\n",
    "    \n",
    "  mae =   total_error/len(true_values)\n",
    "  print(\"MAE:\" , mae)\n",
    "  return mae"
   ]
  },
  {
   "cell_type": "code",
   "execution_count": 40,
   "id": "0b125bf9",
   "metadata": {},
   "outputs": [
    {
     "name": "stdout",
     "output_type": "stream",
     "text": [
      "MAE: 1.0\n"
     ]
    },
    {
     "data": {
      "text/plain": [
       "1.0"
      ]
     },
     "execution_count": 40,
     "metadata": {},
     "output_type": "execute_result"
    }
   ],
   "source": [
    "\n",
    "mae(true_values_test,predectid_values_test)\n",
    "     "
   ]
  },
  {
   "cell_type": "code",
   "execution_count": 41,
   "id": "b79d1424",
   "metadata": {},
   "outputs": [
    {
     "name": "stdout",
     "output_type": "stream",
     "text": [
      "1.0\n"
     ]
    }
   ],
   "source": [
    "mae =np.mean(np.abs(np.array(true_values_test)-np.array(predectid_values_test)))\n",
    "print(mae)"
   ]
  },
  {
   "cell_type": "code",
   "execution_count": null,
   "id": "befb9b02",
   "metadata": {},
   "outputs": [],
   "source": []
  }
 ],
 "metadata": {
  "kernelspec": {
   "display_name": "Python 3",
   "language": "python",
   "name": "python3"
  },
  "language_info": {
   "codemirror_mode": {
    "name": "ipython",
    "version": 3
   },
   "file_extension": ".py",
   "mimetype": "text/x-python",
   "name": "python",
   "nbconvert_exporter": "python",
   "pygments_lexer": "ipython3",
   "version": "3.10.11"
  }
 },
 "nbformat": 4,
 "nbformat_minor": 5
}
